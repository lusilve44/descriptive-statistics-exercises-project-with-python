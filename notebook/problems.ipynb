{
    "cells": [
        {
            "cell_type": "markdown",
            "id": "ac622319",
            "metadata": {},
            "source": [
                "# Descriptive Statistics Problems"
            ]
        },
        {
            "cell_type": "markdown",
            "id": "aa8993e4",
            "metadata": {},
            "source": [
                "### Exercise 1"
            ]
        },
        {
            "cell_type": "markdown",
            "id": "5e0ab0d5",
            "metadata": {},
            "source": [
                "As right now, you are familliar with numpy, we are going to use numpy to get some data statistics.\n",
                "\n",
                "First, lets create an array of 20 elements distributed normally (Gaussian):\n",
                "\n",
                "Use the np.random.normal function to create some data, using 0,1,20 as parameters because we want a one dimentional array of 20 numbers distributed normally (Gaussian)"
            ]
        },
        {
            "cell_type": "code",
            "execution_count": 22,
            "id": "34720ab6",
            "metadata": {},
            "outputs": [
                {
                    "name": "stdout",
                    "output_type": "stream",
                    "text": [
                        "[ 0.49671415 -0.1382643   0.64768854  1.52302986 -0.23415337 -0.23413696\n",
                        "  1.57921282  0.76743473 -0.46947439  0.54256004 -0.46341769 -0.46572975\n",
                        "  0.24196227 -1.91328024 -1.72491783 -0.56228753 -1.01283112  0.31424733\n",
                        " -0.90802408 -1.4123037 ]\n"
                    ]
                }
            ],
            "source": [
                "#import libraries\n",
                "import numpy as np\n",
                "\n",
                "# Set seed in order to get similar results\n",
                "np.random.seed(42)\n",
                "\n",
                "# create the data\n",
                "dt = np.random.normal(0,1,20)\n",
                "\n",
                "#print results\n",
                "print(dt)"
            ]
        },
        {
            "cell_type": "code",
            "execution_count": 23,
            "id": "49c55822",
            "metadata": {},
            "outputs": [
                {
                    "name": "stdout",
                    "output_type": "stream",
                    "text": [
                        "Mean of the sample: -0.17129856144182892\n"
                    ]
                }
            ],
            "source": [
                "#Use numpy to get the mean of your data\n",
                "mean_dt = np.mean(dt)\n",
                "print(f'Mean of the sample: {mean_dt}')"
            ]
        },
        {
            "cell_type": "code",
            "execution_count": 24,
            "id": "03529459",
            "metadata": {},
            "outputs": [
                {
                    "name": "stdout",
                    "output_type": "stream",
                    "text": [
                        "Variance of the sample: 0.9216545699707093\n"
                    ]
                }
            ],
            "source": [
                "#get the variance of your data\n",
                "var_dt = np.var(dt, ddof=1)  #sample variance, 20 - 1 degrees of freedom\n",
                "print(f'Variance of the sample: {var_dt}')"
            ]
        },
        {
            "cell_type": "code",
            "execution_count": 25,
            "id": "e53f30c5",
            "metadata": {},
            "outputs": [
                {
                    "name": "stdout",
                    "output_type": "stream",
                    "text": [
                        "Standard deviation of the sample: 0.9600284214390266\n"
                    ]
                }
            ],
            "source": [
                "# Standard deviation\n",
                "std_dt = np.std(dt, ddof=1) #sample standard deviation, 20 - 1 degrees of freedom\n",
                "print(f'Standard deviation of the sample: {std_dt}')"
            ]
        },
        {
            "cell_type": "code",
            "execution_count": 26,
            "id": "9bce852f",
            "metadata": {},
            "outputs": [
                {
                    "name": "stdout",
                    "output_type": "stream",
                    "text": [
                        "Mode of the sample: ModeResult(mode=array([-1.91328024]), count=array([1]))\n"
                    ]
                }
            ],
            "source": [
                "#import libraries and print the mode\n",
                "from scipy import stats\n",
                "\n",
                "mode_dt = stats.mode(dt)\n",
                "print(f'Mode of the sample: {mode_dt}')\n",
                "\n",
                "# Mode for continuous array"
            ]
        },
        {
            "cell_type": "code",
            "execution_count": 27,
            "id": "c682cb6e",
            "metadata": {},
            "outputs": [
                {
                    "name": "stdout",
                    "output_type": "stream",
                    "text": [
                        "Median of the sample: -0.23414516583625827\n"
                    ]
                }
            ],
            "source": [
                "# Median\n",
                "median_dt = np.median(dt)\n",
                "print(f'Median of the sample: {median_dt}')"
            ]
        },
        {
            "cell_type": "code",
            "execution_count": 28,
            "id": "39c3fabd",
            "metadata": {},
            "outputs": [
                {
                    "name": "stdout",
                    "output_type": "stream",
                    "text": [
                        "First quantil: -0.6487216658110322\n",
                        "Second quantil: -0.23414516583625827\n",
                        "Third quantil: 0.5081756256549157\n"
                    ]
                }
            ],
            "source": [
                "# Print the Quantiles\n",
                "q1 = np.quantile(dt,0.25)\n",
                "q2 = np.quantile(dt,0.5)\n",
                "q3 = np.quantile(dt,0.75)\n",
                "\n",
                "print(f'First quantil: {q1}')\n",
                "print(f'Second quantil: {q2}')\n",
                "print(f'Third quantil: {q3}')\n",
                "\n",
                "# This match with np.median, why?\n",
                "\n",
                "# Because the second quantil it's the acumulation of the 50% of the data below itself, and the \n",
                "# median is the value that divides the data in two equal parts, 50% for each side\n"
            ]
        },
        {
            "cell_type": "markdown",
            "id": "46c70c3d",
            "metadata": {},
            "source": [
                "### Exercise 2\n",
                "\n",
                "Write a Python program to calculate the standard deviation of the following data:\n",
                "```py\n",
                "data = [4, 2, 5, 8, 6]\n",
                "```"
            ]
        },
        {
            "cell_type": "code",
            "execution_count": 29,
            "id": "d590308e",
            "metadata": {},
            "outputs": [
                {
                    "name": "stdout",
                    "output_type": "stream",
                    "text": [
                        "The sample data is: [4, 2, 5, 8, 6]\n",
                        "The standard deviation of the sample data is: 2.23606797749979\n"
                    ]
                }
            ],
            "source": [
                "import math\n",
                "import sys\n",
                "\n",
                "# Define the standard deviation function\n",
                "\n",
                "def sd_calc(data):\n",
                "    #code here\n",
                "    # calculate stan. dev.\n",
                "\n",
                "    n = len(data)\n",
                "\n",
                "    if n <= 1:\n",
                "        return 0\n",
                "    \n",
                "    else:\n",
                "        mean = avg_calc(data)\n",
                "        sd = 0\n",
                "\n",
                "        for value in data:\n",
                "            sd += (value - mean)**2\n",
                "        sd = math.sqrt(sd/(n-1))\n",
                "\n",
                "        return sd\n",
                "\n",
                "\n",
                "# Define the average function\n",
                "\n",
                "def avg_calc(ls):\n",
                "    #code here\n",
                "    # calculate average\n",
                "\n",
                "    n = len(data)\n",
                "\n",
                "    if n <= 1:\n",
                "        return data[0]\n",
                "\n",
                "    else:\n",
                "        mean = 0\n",
                "\n",
                "        for value in data:\n",
                "            mean += value\n",
                "        mean = mean / n\n",
                "\n",
                "        return mean\n",
                "\n",
                "\n",
                "data = [4, 2, 5, 8, 6]\n",
                "\n",
                "#print the data\n",
                "print(f'The sample data is: {data}')\n",
                "\n",
                "#print the standard deviation of the data\n",
                "sd_data = sd_calc(data)\n",
                "print(f'The standard deviation of the sample data is: {sd_data}')"
            ]
        },
        {
            "cell_type": "markdown",
            "id": "04b71791",
            "metadata": {},
            "source": [
                "Source:\n",
                "\n",
                "https://www.w3resource.com/"
            ]
        }
    ],
    "metadata": {
        "kernelspec": {
            "display_name": "Python 3.8.13 64-bit ('3.8.13')",
            "language": "python",
            "name": "python3"
        },
        "language_info": {
            "codemirror_mode": {
                "name": "ipython",
                "version": 3
            },
            "file_extension": ".py",
            "mimetype": "text/x-python",
            "name": "python",
            "nbconvert_exporter": "python",
            "pygments_lexer": "ipython3",
            "version": "3.8.13"
        },
        "vscode": {
            "interpreter": {
                "hash": "110cc1dee26208153f2972f08a2ad52b6a56238dc66d48e87fb757ef2996db56"
            }
        }
    },
    "nbformat": 4,
    "nbformat_minor": 5
}
